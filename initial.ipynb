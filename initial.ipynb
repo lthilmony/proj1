{
 "cells": [
  {
   "cell_type": "code",
   "execution_count": 4,
   "id": "ef08ddc6",
   "metadata": {},
   "outputs": [],
   "source": [
    "import polars as pl"
   ]
  },
  {
   "cell_type": "code",
   "execution_count": 3,
   "id": "158c19c5",
   "metadata": {},
   "outputs": [
    {
     "data": {
      "text/html": [
       "<div><style>\n",
       ".dataframe > thead > tr,\n",
       ".dataframe > tbody > tr {\n",
       "  text-align: right;\n",
       "  white-space: pre-wrap;\n",
       "}\n",
       "</style>\n",
       "<small>shape: (143, 11)</small><table border=\"1\" class=\"dataframe\"><thead><tr><th>Country name</th><th>Ladder score</th><th>upperwhisker</th><th>lowerwhisker</th><th>Explained by: Log GDP per capita</th><th>Explained by: Social support</th><th>Explained by: Healthy life expectancy</th><th>Explained by: Freedom to make life choices</th><th>Explained by: Generosity</th><th>Explained by: Perceptions of corruption</th><th>Dystopia + residual</th></tr><tr><td>str</td><td>f64</td><td>f64</td><td>f64</td><td>f64</td><td>f64</td><td>f64</td><td>f64</td><td>f64</td><td>f64</td><td>f64</td></tr></thead><tbody><tr><td>&quot;Finland&quot;</td><td>7.741</td><td>7.815</td><td>7.667</td><td>1.844</td><td>1.572</td><td>0.695</td><td>0.859</td><td>0.142</td><td>0.546</td><td>2.082</td></tr><tr><td>&quot;Denmark&quot;</td><td>7.583</td><td>7.665</td><td>7.5</td><td>1.908</td><td>1.52</td><td>0.699</td><td>0.823</td><td>0.204</td><td>0.548</td><td>1.881</td></tr><tr><td>&quot;Iceland&quot;</td><td>7.525</td><td>7.618</td><td>7.433</td><td>1.881</td><td>1.617</td><td>0.718</td><td>0.819</td><td>0.258</td><td>0.182</td><td>2.05</td></tr><tr><td>&quot;Sweden&quot;</td><td>7.344</td><td>7.422</td><td>7.267</td><td>1.878</td><td>1.501</td><td>0.724</td><td>0.838</td><td>0.221</td><td>0.524</td><td>1.658</td></tr><tr><td>&quot;Israel&quot;</td><td>7.341</td><td>7.405</td><td>7.277</td><td>1.803</td><td>1.513</td><td>0.74</td><td>0.641</td><td>0.153</td><td>0.193</td><td>2.298</td></tr><tr><td>&hellip;</td><td>&hellip;</td><td>&hellip;</td><td>&hellip;</td><td>&hellip;</td><td>&hellip;</td><td>&hellip;</td><td>&hellip;</td><td>&hellip;</td><td>&hellip;</td><td>&hellip;</td></tr><tr><td>&quot;Congo (Kinshasa)&quot;</td><td>3.295</td><td>3.462</td><td>3.128</td><td>0.534</td><td>0.665</td><td>0.262</td><td>0.473</td><td>0.189</td><td>0.072</td><td>1.102</td></tr><tr><td>&quot;Sierra Leone&quot;</td><td>3.245</td><td>3.366</td><td>3.124</td><td>0.654</td><td>0.566</td><td>0.253</td><td>0.469</td><td>0.181</td><td>0.053</td><td>1.068</td></tr><tr><td>&quot;Lesotho&quot;</td><td>3.186</td><td>3.469</td><td>2.904</td><td>0.771</td><td>0.851</td><td>0.0</td><td>0.523</td><td>0.082</td><td>0.085</td><td>0.875</td></tr><tr><td>&quot;Lebanon&quot;</td><td>2.707</td><td>2.797</td><td>2.616</td><td>1.377</td><td>0.577</td><td>0.556</td><td>0.173</td><td>0.068</td><td>0.029</td><td>-0.073</td></tr><tr><td>&quot;Afghanistan&quot;</td><td>1.721</td><td>1.775</td><td>1.667</td><td>0.628</td><td>0.0</td><td>0.242</td><td>0.0</td><td>0.091</td><td>0.088</td><td>0.672</td></tr></tbody></table></div>"
      ],
      "text/plain": [
       "shape: (143, 11)\n",
       "┌───────────┬───────────┬───────────┬───────────┬───┬───────────┬───────────┬───────────┬──────────┐\n",
       "│ Country   ┆ Ladder    ┆ upperwhis ┆ lowerwhis ┆ … ┆ Explained ┆ Explained ┆ Explained ┆ Dystopia │\n",
       "│ name      ┆ score     ┆ ker       ┆ ker       ┆   ┆ by:       ┆ by: Gener ┆ by: Perce ┆ +        │\n",
       "│ ---       ┆ ---       ┆ ---       ┆ ---       ┆   ┆ Freedom   ┆ osity     ┆ ptions of ┆ residual │\n",
       "│ str       ┆ f64       ┆ f64       ┆ f64       ┆   ┆ to make … ┆ ---       ┆ c…        ┆ ---      │\n",
       "│           ┆           ┆           ┆           ┆   ┆ ---       ┆ f64       ┆ ---       ┆ f64      │\n",
       "│           ┆           ┆           ┆           ┆   ┆ f64       ┆           ┆ f64       ┆          │\n",
       "╞═══════════╪═══════════╪═══════════╪═══════════╪═══╪═══════════╪═══════════╪═══════════╪══════════╡\n",
       "│ Finland   ┆ 7.741     ┆ 7.815     ┆ 7.667     ┆ … ┆ 0.859     ┆ 0.142     ┆ 0.546     ┆ 2.082    │\n",
       "│ Denmark   ┆ 7.583     ┆ 7.665     ┆ 7.5       ┆ … ┆ 0.823     ┆ 0.204     ┆ 0.548     ┆ 1.881    │\n",
       "│ Iceland   ┆ 7.525     ┆ 7.618     ┆ 7.433     ┆ … ┆ 0.819     ┆ 0.258     ┆ 0.182     ┆ 2.05     │\n",
       "│ Sweden    ┆ 7.344     ┆ 7.422     ┆ 7.267     ┆ … ┆ 0.838     ┆ 0.221     ┆ 0.524     ┆ 1.658    │\n",
       "│ Israel    ┆ 7.341     ┆ 7.405     ┆ 7.277     ┆ … ┆ 0.641     ┆ 0.153     ┆ 0.193     ┆ 2.298    │\n",
       "│ …         ┆ …         ┆ …         ┆ …         ┆ … ┆ …         ┆ …         ┆ …         ┆ …        │\n",
       "│ Congo (Ki ┆ 3.295     ┆ 3.462     ┆ 3.128     ┆ … ┆ 0.473     ┆ 0.189     ┆ 0.072     ┆ 1.102    │\n",
       "│ nshasa)   ┆           ┆           ┆           ┆   ┆           ┆           ┆           ┆          │\n",
       "│ Sierra    ┆ 3.245     ┆ 3.366     ┆ 3.124     ┆ … ┆ 0.469     ┆ 0.181     ┆ 0.053     ┆ 1.068    │\n",
       "│ Leone     ┆           ┆           ┆           ┆   ┆           ┆           ┆           ┆          │\n",
       "│ Lesotho   ┆ 3.186     ┆ 3.469     ┆ 2.904     ┆ … ┆ 0.523     ┆ 0.082     ┆ 0.085     ┆ 0.875    │\n",
       "│ Lebanon   ┆ 2.707     ┆ 2.797     ┆ 2.616     ┆ … ┆ 0.173     ┆ 0.068     ┆ 0.029     ┆ -0.073   │\n",
       "│ Afghanist ┆ 1.721     ┆ 1.775     ┆ 1.667     ┆ … ┆ 0.0       ┆ 0.091     ┆ 0.088     ┆ 0.672    │\n",
       "│ an        ┆           ┆           ┆           ┆   ┆           ┆           ┆           ┆          │\n",
       "└───────────┴───────────┴───────────┴───────────┴───┴───────────┴───────────┴───────────┴──────────┘"
      ]
     },
     "execution_count": null,
     "metadata": {},
     "output_type": "execute_result"
    }
   ],
   "source": [
    "whr = pl.read_csv(\"WHR2024.csv\")\n",
    "whr"
   ]
  },
  {
   "cell_type": "code",
   "execution_count": null,
   "id": "3da65e20",
   "metadata": {},
   "outputs": [],
   "source": []
  }
 ],
 "metadata": {
  "language_info": {
   "name": "python"
  }
 },
 "nbformat": 4,
 "nbformat_minor": 5
}
