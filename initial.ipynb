{
 "cells": [
  {
   "cell_type": "code",
   "execution_count": 3,
   "id": "ef08ddc6",
   "metadata": {},
   "outputs": [
    {
     "ename": "ModuleNotFoundError",
     "evalue": "No module named 'polars'",
     "output_type": "error",
     "traceback": [
      "\u001b[1;31m---------------------------------------------------------------------------\u001b[0m\n",
      "\u001b[1;31mModuleNotFoundError\u001b[0m                       Traceback (most recent call last)\n",
      "Cell \u001b[1;32mIn[3], line 1\u001b[0m\n",
      "\u001b[1;32m----> 1\u001b[0m \u001b[38;5;28;01mimport\u001b[39;00m\u001b[38;5;250m \u001b[39m\u001b[38;5;21;01mpolars\u001b[39;00m\u001b[38;5;250m \u001b[39m\u001b[38;5;28;01mas\u001b[39;00m\u001b[38;5;250m \u001b[39m\u001b[38;5;21;01mpl\u001b[39;00m\n",
      "\n",
      "\u001b[1;31mModuleNotFoundError\u001b[0m: No module named 'polars'"
     ]
    }
   ],
   "source": [
    "import polars as pl"
   ]
  },
  {
   "cell_type": "code",
   "execution_count": 9,
   "id": "158c19c5",
   "metadata": {},
   "outputs": [
    {
     "data": {
      "text/html": [
       "<div><style>\n",
       ".dataframe > thead > tr,\n",
       ".dataframe > tbody > tr {\n",
       "  text-align: right;\n",
       "  white-space: pre-wrap;\n",
       "}\n",
       "</style>\n",
       "<small>shape: (395, 33)</small><table border=\"1\" class=\"dataframe\"><thead><tr><th>school</th><th>sex</th><th>age</th><th>address</th><th>famsize</th><th>Pstatus</th><th>Medu</th><th>Fedu</th><th>Mjob</th><th>Fjob</th><th>reason</th><th>guardian</th><th>traveltime</th><th>studytime</th><th>failures</th><th>schoolsup</th><th>famsup</th><th>paid</th><th>activities</th><th>nursery</th><th>higher</th><th>internet</th><th>romantic</th><th>famrel</th><th>freetime</th><th>goout</th><th>Dalc</th><th>Walc</th><th>health</th><th>absences</th><th>G1</th><th>G2</th><th>G3</th></tr><tr><td>str</td><td>str</td><td>i64</td><td>str</td><td>str</td><td>str</td><td>i64</td><td>i64</td><td>str</td><td>str</td><td>str</td><td>str</td><td>i64</td><td>i64</td><td>i64</td><td>str</td><td>str</td><td>str</td><td>str</td><td>str</td><td>str</td><td>str</td><td>str</td><td>i64</td><td>i64</td><td>i64</td><td>i64</td><td>i64</td><td>i64</td><td>i64</td><td>i64</td><td>i64</td><td>i64</td></tr></thead><tbody><tr><td>&quot;GP&quot;</td><td>&quot;F&quot;</td><td>18</td><td>&quot;U&quot;</td><td>&quot;GT3&quot;</td><td>&quot;A&quot;</td><td>4</td><td>4</td><td>&quot;at_home&quot;</td><td>&quot;teacher&quot;</td><td>&quot;course&quot;</td><td>&quot;mother&quot;</td><td>2</td><td>2</td><td>0</td><td>&quot;yes&quot;</td><td>&quot;no&quot;</td><td>&quot;no&quot;</td><td>&quot;no&quot;</td><td>&quot;yes&quot;</td><td>&quot;yes&quot;</td><td>&quot;no&quot;</td><td>&quot;no&quot;</td><td>4</td><td>3</td><td>4</td><td>1</td><td>1</td><td>3</td><td>6</td><td>5</td><td>6</td><td>6</td></tr><tr><td>&quot;GP&quot;</td><td>&quot;F&quot;</td><td>17</td><td>&quot;U&quot;</td><td>&quot;GT3&quot;</td><td>&quot;T&quot;</td><td>1</td><td>1</td><td>&quot;at_home&quot;</td><td>&quot;other&quot;</td><td>&quot;course&quot;</td><td>&quot;father&quot;</td><td>1</td><td>2</td><td>0</td><td>&quot;no&quot;</td><td>&quot;yes&quot;</td><td>&quot;no&quot;</td><td>&quot;no&quot;</td><td>&quot;no&quot;</td><td>&quot;yes&quot;</td><td>&quot;yes&quot;</td><td>&quot;no&quot;</td><td>5</td><td>3</td><td>3</td><td>1</td><td>1</td><td>3</td><td>4</td><td>5</td><td>5</td><td>6</td></tr><tr><td>&quot;GP&quot;</td><td>&quot;F&quot;</td><td>15</td><td>&quot;U&quot;</td><td>&quot;LE3&quot;</td><td>&quot;T&quot;</td><td>1</td><td>1</td><td>&quot;at_home&quot;</td><td>&quot;other&quot;</td><td>&quot;other&quot;</td><td>&quot;mother&quot;</td><td>1</td><td>2</td><td>3</td><td>&quot;yes&quot;</td><td>&quot;no&quot;</td><td>&quot;yes&quot;</td><td>&quot;no&quot;</td><td>&quot;yes&quot;</td><td>&quot;yes&quot;</td><td>&quot;yes&quot;</td><td>&quot;no&quot;</td><td>4</td><td>3</td><td>2</td><td>2</td><td>3</td><td>3</td><td>10</td><td>7</td><td>8</td><td>10</td></tr><tr><td>&quot;GP&quot;</td><td>&quot;F&quot;</td><td>15</td><td>&quot;U&quot;</td><td>&quot;GT3&quot;</td><td>&quot;T&quot;</td><td>4</td><td>2</td><td>&quot;health&quot;</td><td>&quot;services&quot;</td><td>&quot;home&quot;</td><td>&quot;mother&quot;</td><td>1</td><td>3</td><td>0</td><td>&quot;no&quot;</td><td>&quot;yes&quot;</td><td>&quot;yes&quot;</td><td>&quot;yes&quot;</td><td>&quot;yes&quot;</td><td>&quot;yes&quot;</td><td>&quot;yes&quot;</td><td>&quot;yes&quot;</td><td>3</td><td>2</td><td>2</td><td>1</td><td>1</td><td>5</td><td>2</td><td>15</td><td>14</td><td>15</td></tr><tr><td>&quot;GP&quot;</td><td>&quot;F&quot;</td><td>16</td><td>&quot;U&quot;</td><td>&quot;GT3&quot;</td><td>&quot;T&quot;</td><td>3</td><td>3</td><td>&quot;other&quot;</td><td>&quot;other&quot;</td><td>&quot;home&quot;</td><td>&quot;father&quot;</td><td>1</td><td>2</td><td>0</td><td>&quot;no&quot;</td><td>&quot;yes&quot;</td><td>&quot;yes&quot;</td><td>&quot;no&quot;</td><td>&quot;yes&quot;</td><td>&quot;yes&quot;</td><td>&quot;no&quot;</td><td>&quot;no&quot;</td><td>4</td><td>3</td><td>2</td><td>1</td><td>2</td><td>5</td><td>4</td><td>6</td><td>10</td><td>10</td></tr><tr><td>&hellip;</td><td>&hellip;</td><td>&hellip;</td><td>&hellip;</td><td>&hellip;</td><td>&hellip;</td><td>&hellip;</td><td>&hellip;</td><td>&hellip;</td><td>&hellip;</td><td>&hellip;</td><td>&hellip;</td><td>&hellip;</td><td>&hellip;</td><td>&hellip;</td><td>&hellip;</td><td>&hellip;</td><td>&hellip;</td><td>&hellip;</td><td>&hellip;</td><td>&hellip;</td><td>&hellip;</td><td>&hellip;</td><td>&hellip;</td><td>&hellip;</td><td>&hellip;</td><td>&hellip;</td><td>&hellip;</td><td>&hellip;</td><td>&hellip;</td><td>&hellip;</td><td>&hellip;</td><td>&hellip;</td></tr><tr><td>&quot;MS&quot;</td><td>&quot;M&quot;</td><td>20</td><td>&quot;U&quot;</td><td>&quot;LE3&quot;</td><td>&quot;A&quot;</td><td>2</td><td>2</td><td>&quot;services&quot;</td><td>&quot;services&quot;</td><td>&quot;course&quot;</td><td>&quot;other&quot;</td><td>1</td><td>2</td><td>2</td><td>&quot;no&quot;</td><td>&quot;yes&quot;</td><td>&quot;yes&quot;</td><td>&quot;no&quot;</td><td>&quot;yes&quot;</td><td>&quot;yes&quot;</td><td>&quot;no&quot;</td><td>&quot;no&quot;</td><td>5</td><td>5</td><td>4</td><td>4</td><td>5</td><td>4</td><td>11</td><td>9</td><td>9</td><td>9</td></tr><tr><td>&quot;MS&quot;</td><td>&quot;M&quot;</td><td>17</td><td>&quot;U&quot;</td><td>&quot;LE3&quot;</td><td>&quot;T&quot;</td><td>3</td><td>1</td><td>&quot;services&quot;</td><td>&quot;services&quot;</td><td>&quot;course&quot;</td><td>&quot;mother&quot;</td><td>2</td><td>1</td><td>0</td><td>&quot;no&quot;</td><td>&quot;no&quot;</td><td>&quot;no&quot;</td><td>&quot;no&quot;</td><td>&quot;no&quot;</td><td>&quot;yes&quot;</td><td>&quot;yes&quot;</td><td>&quot;no&quot;</td><td>2</td><td>4</td><td>5</td><td>3</td><td>4</td><td>2</td><td>3</td><td>14</td><td>16</td><td>16</td></tr><tr><td>&quot;MS&quot;</td><td>&quot;M&quot;</td><td>21</td><td>&quot;R&quot;</td><td>&quot;GT3&quot;</td><td>&quot;T&quot;</td><td>1</td><td>1</td><td>&quot;other&quot;</td><td>&quot;other&quot;</td><td>&quot;course&quot;</td><td>&quot;other&quot;</td><td>1</td><td>1</td><td>3</td><td>&quot;no&quot;</td><td>&quot;no&quot;</td><td>&quot;no&quot;</td><td>&quot;no&quot;</td><td>&quot;no&quot;</td><td>&quot;yes&quot;</td><td>&quot;no&quot;</td><td>&quot;no&quot;</td><td>5</td><td>5</td><td>3</td><td>3</td><td>3</td><td>3</td><td>3</td><td>10</td><td>8</td><td>7</td></tr><tr><td>&quot;MS&quot;</td><td>&quot;M&quot;</td><td>18</td><td>&quot;R&quot;</td><td>&quot;LE3&quot;</td><td>&quot;T&quot;</td><td>3</td><td>2</td><td>&quot;services&quot;</td><td>&quot;other&quot;</td><td>&quot;course&quot;</td><td>&quot;mother&quot;</td><td>3</td><td>1</td><td>0</td><td>&quot;no&quot;</td><td>&quot;no&quot;</td><td>&quot;no&quot;</td><td>&quot;no&quot;</td><td>&quot;no&quot;</td><td>&quot;yes&quot;</td><td>&quot;yes&quot;</td><td>&quot;no&quot;</td><td>4</td><td>4</td><td>1</td><td>3</td><td>4</td><td>5</td><td>0</td><td>11</td><td>12</td><td>10</td></tr><tr><td>&quot;MS&quot;</td><td>&quot;M&quot;</td><td>19</td><td>&quot;U&quot;</td><td>&quot;LE3&quot;</td><td>&quot;T&quot;</td><td>1</td><td>1</td><td>&quot;other&quot;</td><td>&quot;at_home&quot;</td><td>&quot;course&quot;</td><td>&quot;father&quot;</td><td>1</td><td>1</td><td>0</td><td>&quot;no&quot;</td><td>&quot;no&quot;</td><td>&quot;no&quot;</td><td>&quot;no&quot;</td><td>&quot;yes&quot;</td><td>&quot;yes&quot;</td><td>&quot;yes&quot;</td><td>&quot;no&quot;</td><td>3</td><td>2</td><td>3</td><td>3</td><td>3</td><td>5</td><td>5</td><td>8</td><td>9</td><td>9</td></tr></tbody></table></div>"
      ],
      "text/plain": [
       "shape: (395, 33)\n",
       "┌────────┬─────┬─────┬─────────┬───┬──────────┬─────┬─────┬─────┐\n",
       "│ school ┆ sex ┆ age ┆ address ┆ … ┆ absences ┆ G1  ┆ G2  ┆ G3  │\n",
       "│ ---    ┆ --- ┆ --- ┆ ---     ┆   ┆ ---      ┆ --- ┆ --- ┆ --- │\n",
       "│ str    ┆ str ┆ i64 ┆ str     ┆   ┆ i64      ┆ i64 ┆ i64 ┆ i64 │\n",
       "╞════════╪═════╪═════╪═════════╪═══╪══════════╪═════╪═════╪═════╡\n",
       "│ GP     ┆ F   ┆ 18  ┆ U       ┆ … ┆ 6        ┆ 5   ┆ 6   ┆ 6   │\n",
       "│ GP     ┆ F   ┆ 17  ┆ U       ┆ … ┆ 4        ┆ 5   ┆ 5   ┆ 6   │\n",
       "│ GP     ┆ F   ┆ 15  ┆ U       ┆ … ┆ 10       ┆ 7   ┆ 8   ┆ 10  │\n",
       "│ GP     ┆ F   ┆ 15  ┆ U       ┆ … ┆ 2        ┆ 15  ┆ 14  ┆ 15  │\n",
       "│ GP     ┆ F   ┆ 16  ┆ U       ┆ … ┆ 4        ┆ 6   ┆ 10  ┆ 10  │\n",
       "│ …      ┆ …   ┆ …   ┆ …       ┆ … ┆ …        ┆ …   ┆ …   ┆ …   │\n",
       "│ MS     ┆ M   ┆ 20  ┆ U       ┆ … ┆ 11       ┆ 9   ┆ 9   ┆ 9   │\n",
       "│ MS     ┆ M   ┆ 17  ┆ U       ┆ … ┆ 3        ┆ 14  ┆ 16  ┆ 16  │\n",
       "│ MS     ┆ M   ┆ 21  ┆ R       ┆ … ┆ 3        ┆ 10  ┆ 8   ┆ 7   │\n",
       "│ MS     ┆ M   ┆ 18  ┆ R       ┆ … ┆ 0        ┆ 11  ┆ 12  ┆ 10  │\n",
       "│ MS     ┆ M   ┆ 19  ┆ U       ┆ … ┆ 5        ┆ 8   ┆ 9   ┆ 9   │\n",
       "└────────┴─────┴─────┴─────────┴───┴──────────┴─────┴─────┴─────┘"
      ]
     },
     "execution_count": null,
     "metadata": {},
     "output_type": "execute_result"
    }
   ],
   "source": [
    "stu_orig = pl.read_csv(\"student-mat.csv\")\n",
    "stu_orig"
   ]
  },
  {
   "cell_type": "code",
   "execution_count": null,
   "id": "3da65e20",
   "metadata": {},
   "outputs": [],
   "source": []
  }
 ],
 "metadata": {
  "language_info": {
   "name": "python"
  }
 },
 "nbformat": 4,
 "nbformat_minor": 5
}
